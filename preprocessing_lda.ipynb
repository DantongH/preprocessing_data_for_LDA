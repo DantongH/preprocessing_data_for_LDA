{
 "cells": [
  {
   "cell_type": "markdown",
   "metadata": {
    "id": "rrVC6HrdkmQn"
   },
   "source": [
    "###Load data"
   ]
  },
  {
   "cell_type": "code",
   "execution_count": 25,
   "metadata": {
    "colab": {
     "base_uri": "https://localhost:8080/"
    },
    "id": "UZBz-QqgHOfG",
    "outputId": "1ce957fb-2ea2-45a8-f13b-127f7ac2a5b3"
   },
   "outputs": [
    {
     "name": "stdout",
     "output_type": "stream",
     "text": [
      "Drive already mounted at /content/drive; to attempt to forcibly remount, call drive.mount(\"/content/drive\", force_remount=True).\n"
     ]
    }
   ],
   "source": [
    "from google.colab import drive\n",
    "drive.mount('/content/drive')"
   ]
  },
  {
   "cell_type": "code",
   "execution_count": 26,
   "metadata": {
    "id": "KrGRFndEHbU3"
   },
   "outputs": [],
   "source": [
    "import pandas as pd\n",
    "import numpy as np\n",
    "path = \"/content/drive/MyDrive/Data/all_data.csv\"\n",
    "df = pd.read_csv(path)"
   ]
  },
  {
   "cell_type": "code",
   "execution_count": 27,
   "metadata": {
    "colab": {
     "base_uri": "https://localhost:8080/"
    },
    "id": "Bl9ZK7ux9jYL",
    "outputId": "5e2f3f45-d289-4534-8532-84e7f425420f"
   },
   "outputs": [
    {
     "data": {
      "text/plain": [
       "murder                                                                                           1004\n",
       "romantic                                                                                          731\n",
       "violence                                                                                          584\n",
       "psychedelic                                                                                       437\n",
       "flashback                                                                                         332\n",
       "                                                                                                 ... \n",
       "paranormal, cult, comedy, murder, home movie                                                        1\n",
       "cruelty, murder, cult, horror, violence, haunting, flashback, insanity, revenge, storytelling       1\n",
       "good versus evil, violence, fantasy, action                                                         1\n",
       "pornographic, psychedelic, humor, satire                                                            1\n",
       "romantic, comedy, psychedelic, entertaining                                                         1\n",
       "Name: tags, Length: 5604, dtype: int64"
      ]
     },
     "execution_count": 27,
     "metadata": {},
     "output_type": "execute_result"
    }
   ],
   "source": [
    "df['tags'].value_counts()"
   ]
  },
  {
   "cell_type": "code",
   "execution_count": 89,
   "metadata": {
    "id": "Yn76piugU2W0"
   },
   "outputs": [],
   "source": [
    "selected = ['murder']\n",
    "df_new = pd.DataFrame(df.loc[df['tags'].isin(selected)])"
   ]
  },
  {
   "cell_type": "code",
   "execution_count": 65,
   "metadata": {
    "id": "YzIxgZ2tnj_Y"
   },
   "outputs": [],
   "source": [
    "# df_new[:10]"
   ]
  },
  {
   "cell_type": "code",
   "execution_count": 90,
   "metadata": {
    "id": "_-8ReXY0XZzs"
   },
   "outputs": [],
   "source": [
    "import re\n",
    "df1 = pd.DataFrame(df_new['plot_synopsis'].str.replace(r\"\\([^()]*\\)\",\"\") )  #new dataframe with only 3 tags \n",
    "#df1 = pd.DataFrame(df['plot_synopsis'].str.replace(r\"\\([^()]*\\)\",\"\") )   "
   ]
  },
  {
   "cell_type": "code",
   "execution_count": 79,
   "metadata": {
    "colab": {
     "base_uri": "https://localhost:8080/"
    },
    "id": "8ScNMfv6XumI",
    "outputId": "72dbad37-5ea1-405a-d0cb-e4daaa1ac5cd"
   },
   "outputs": [
    {
     "data": {
      "text/plain": [
       "14828"
      ]
     },
     "execution_count": 79,
     "metadata": {},
     "output_type": "execute_result"
    }
   ],
   "source": [
    "len(df1)"
   ]
  },
  {
   "cell_type": "markdown",
   "metadata": {
    "id": "PZtDPNl6qcwH"
   },
   "source": [
    "### Pre-processing"
   ]
  },
  {
   "cell_type": "code",
   "execution_count": 80,
   "metadata": {
    "colab": {
     "base_uri": "https://localhost:8080/"
    },
    "id": "6gtvLV_v-0e3",
    "outputId": "480a66eb-3093-4327-b2a8-a23bb17fda78"
   },
   "outputs": [
    {
     "name": "stdout",
     "output_type": "stream",
     "text": [
      "[nltk_data] Downloading package wordnet to /root/nltk_data...\n",
      "[nltk_data]   Package wordnet is already up-to-date!\n",
      "[nltk_data] Downloading package stopwords to /root/nltk_data...\n",
      "[nltk_data]   Package stopwords is already up-to-date!\n",
      "[nltk_data] Downloading package punkt to /root/nltk_data...\n",
      "[nltk_data]   Package punkt is already up-to-date!\n"
     ]
    }
   ],
   "source": [
    "from nltk.tokenize import RegexpTokenizer\n",
    "import nltk\n",
    "from nltk.corpus import wordnet\n",
    "from nltk.stem import WordNetLemmatizer\n",
    "nltk.download('wordnet')\n",
    "nltk.download(\"stopwords\")\n",
    "nltk.download(\"punkt\")\n",
    "#Create Stop Words Corpus\n",
    "stop_words = nltk.corpus.stopwords.words(\"english\")\n",
    "wordnet_lemmatizer = WordNetLemmatizer()\n",
    "tokenizer = RegexpTokenizer(r'[a-z]+')"
   ]
  },
  {
   "cell_type": "code",
   "execution_count": 50,
   "metadata": {
    "id": "aWFoKN-3T2o-"
   },
   "outputs": [],
   "source": [
    "# add_stopw = ['go','tell', 'find','get','back','take','say','make','one','see','ask','come','call','give']\n",
    "# add_stopw2 = ['kill', 'help','leave', 'escape','return','force']\n",
    "# add_stopw3 = ['fight','battle','attack','shoot']\n",
    "\n",
    "# stop_words = add_stopw + stop_words + add_stopw2 + add_stopw3"
   ]
  },
  {
   "cell_type": "code",
   "execution_count": 34,
   "metadata": {
    "colab": {
     "base_uri": "https://localhost:8080/"
    },
    "id": "0phpCMwlXKRY",
    "outputId": "3cecdfdd-2b94-4be4-aeff-fadbd790d1c1"
   },
   "outputs": [
    {
     "name": "stdout",
     "output_type": "stream",
     "text": [
      "326\n"
     ]
    }
   ],
   "source": [
    "import spacy\n",
    "#loading the english language small model of spacy\n",
    "en = spacy.load('en_core_web_sm')\n",
    "stop_spacy = en.Defaults.stop_words\n",
    "print(len(stop_spacy))"
   ]
  },
  {
   "cell_type": "code",
   "execution_count": 81,
   "metadata": {
    "id": "BCAPSHptajNR"
   },
   "outputs": [],
   "source": [
    "final_stop_list =  stop_words + list(stop_spacy - set(stop_words))"
   ]
  },
  {
   "cell_type": "code",
   "execution_count": 82,
   "metadata": {
    "colab": {
     "base_uri": "https://localhost:8080/"
    },
    "id": "jrV7CeYTY0hB",
    "outputId": "18a4ca0c-f1a8-48f9-d4cb-cc8c6af0d546"
   },
   "outputs": [
    {
     "data": {
      "text/plain": [
       "382"
      ]
     },
     "execution_count": 82,
     "metadata": {},
     "output_type": "execute_result"
    }
   ],
   "source": [
    "len(final_stop_list) "
   ]
  },
  {
   "cell_type": "code",
   "execution_count": 83,
   "metadata": {
    "id": "zXkhKeNuTzIv"
   },
   "outputs": [],
   "source": [
    "def preprocess(document):\n",
    "    \n",
    "    document = document.lower() # Convert to lowercase\n",
    "    words = tokenizer.tokenize(document) # Tokenize\n",
    "    # Lemmatizing\n",
    "    for pos in [wordnet.NOUN, wordnet.VERB, wordnet.ADJ, wordnet.ADV]:\n",
    "        words = [wordnet_lemmatizer.lemmatize(x, pos) for x in words]\n",
    "    \n",
    "    words = [w for w in words if not w in final_stop_list and len(w)>3 and len(w)<10] # Removing stopwords and words with less than 2 letters\n",
    "    \n",
    "    return \" \".join(words)\n",
    "    "
   ]
  },
  {
   "cell_type": "code",
   "execution_count": 91,
   "metadata": {
    "colab": {
     "base_uri": "https://localhost:8080/",
     "height": 206
    },
    "id": "eZkhI67DFlPt",
    "outputId": "e1039ef3-92bd-455e-c7ba-5ea20867a840"
   },
   "outputs": [
    {
     "data": {
      "text/html": [
       "<div>\n",
       "<style scoped>\n",
       "    .dataframe tbody tr th:only-of-type {\n",
       "        vertical-align: middle;\n",
       "    }\n",
       "\n",
       "    .dataframe tbody tr th {\n",
       "        vertical-align: top;\n",
       "    }\n",
       "\n",
       "    .dataframe thead th {\n",
       "        text-align: right;\n",
       "    }\n",
       "</style>\n",
       "<table border=\"1\" class=\"dataframe\">\n",
       "  <thead>\n",
       "    <tr style=\"text-align: right;\">\n",
       "      <th></th>\n",
       "      <th>plot_synopsis</th>\n",
       "      <th>processed_plot</th>\n",
       "    </tr>\n",
       "  </thead>\n",
       "  <tbody>\n",
       "    <tr>\n",
       "      <th>13</th>\n",
       "      <td>Arrival.\\nA train pulls into a station in Nort...</td>\n",
       "      <td>arrival train pull station north china soldier...</td>\n",
       "    </tr>\n",
       "    <tr>\n",
       "      <th>30</th>\n",
       "      <td>** CONTAINS SPOILERSIn England, OFFICIALS drag...</td>\n",
       "      <td>contain england official drag lake soon locate...</td>\n",
       "    </tr>\n",
       "    <tr>\n",
       "      <th>56</th>\n",
       "      <td>Divorcée Hazel Show and her teenage daughter L...</td>\n",
       "      <td>divorc hazel teenage daughter laurie small ami...</td>\n",
       "    </tr>\n",
       "    <tr>\n",
       "      <th>72</th>\n",
       "      <td>Mel  and Jules  are best friends returning to ...</td>\n",
       "      <td>jules best friend return angeles trip mexico s...</td>\n",
       "    </tr>\n",
       "    <tr>\n",
       "      <th>102</th>\n",
       "      <td>A young Hispanic woman prays to the Virgin Mar...</td>\n",
       "      <td>young hispanic woman pray virgin mary grip lig...</td>\n",
       "    </tr>\n",
       "  </tbody>\n",
       "</table>\n",
       "</div>"
      ],
      "text/plain": [
       "                                         plot_synopsis                                     processed_plot\n",
       "13   Arrival.\\nA train pulls into a station in Nort...  arrival train pull station north china soldier...\n",
       "30   ** CONTAINS SPOILERSIn England, OFFICIALS drag...  contain england official drag lake soon locate...\n",
       "56   Divorcée Hazel Show and her teenage daughter L...  divorc hazel teenage daughter laurie small ami...\n",
       "72   Mel  and Jules  are best friends returning to ...  jules best friend return angeles trip mexico s...\n",
       "102  A young Hispanic woman prays to the Virgin Mar...  young hispanic woman pray virgin mary grip lig..."
      ]
     },
     "execution_count": 91,
     "metadata": {},
     "output_type": "execute_result"
    }
   ],
   "source": [
    "df1['processed_plot'] = df1['plot_synopsis'].apply(preprocess)\n",
    "df1.head()"
   ]
  },
  {
   "cell_type": "markdown",
   "metadata": {
    "id": "4omHdpi7FIuN"
   },
   "source": [
    "### Split train and test set"
   ]
  },
  {
   "cell_type": "code",
   "execution_count": 15,
   "metadata": {
    "id": "El4i7K62JD0-"
   },
   "outputs": [],
   "source": [
    "# from sklearn.model_selection import train_test_split\n",
    "\n",
    "# df_train, df_test = train_test_split(df1, test_size=0.2)"
   ]
  },
  {
   "cell_type": "code",
   "execution_count": 16,
   "metadata": {
    "colab": {
     "base_uri": "https://localhost:8080/",
     "height": 424
    },
    "id": "X7ly6GcAMY-5",
    "outputId": "d521d3f4-d57e-4edd-9dd7-93c1d9d93a80"
   },
   "outputs": [
    {
     "data": {
      "text/html": [
       "<div>\n",
       "<style scoped>\n",
       "    .dataframe tbody tr th:only-of-type {\n",
       "        vertical-align: middle;\n",
       "    }\n",
       "\n",
       "    .dataframe tbody tr th {\n",
       "        vertical-align: top;\n",
       "    }\n",
       "\n",
       "    .dataframe thead th {\n",
       "        text-align: right;\n",
       "    }\n",
       "</style>\n",
       "<table border=\"1\" class=\"dataframe\">\n",
       "  <thead>\n",
       "    <tr style=\"text-align: right;\">\n",
       "      <th></th>\n",
       "      <th>plot_synopsis</th>\n",
       "      <th>processed_plot</th>\n",
       "    </tr>\n",
       "  </thead>\n",
       "  <tbody>\n",
       "    <tr>\n",
       "      <th>9007</th>\n",
       "      <td>The story is narrated through flashbacks. Velu...</td>\n",
       "      <td>story narrate flashback velu teenager work roa...</td>\n",
       "    </tr>\n",
       "    <tr>\n",
       "      <th>12983</th>\n",
       "      <td>The show follows three best friends in their l...</td>\n",
       "      <td>follow best friend late live kahnawake bailey ...</td>\n",
       "    </tr>\n",
       "    <tr>\n",
       "      <th>8722</th>\n",
       "      <td>The film centers on European-looking, South Am...</td>\n",
       "      <td>film center european look south american immig...</td>\n",
       "    </tr>\n",
       "    <tr>\n",
       "      <th>2144</th>\n",
       "      <td>Pittsburgh, 1996. Jamie  is seen working in an...</td>\n",
       "      <td>jamie work store talk flirt woman phone stereo...</td>\n",
       "    </tr>\n",
       "    <tr>\n",
       "      <th>7247</th>\n",
       "      <td>In a Colorado national park, a boy having an a...</td>\n",
       "      <td>colorado national park asthma attack approach ...</td>\n",
       "    </tr>\n",
       "    <tr>\n",
       "      <th>...</th>\n",
       "      <td>...</td>\n",
       "      <td>...</td>\n",
       "    </tr>\n",
       "    <tr>\n",
       "      <th>6636</th>\n",
       "      <td>The film begins in 1944 with John Christie mur...</td>\n",
       "      <td>film begin john christie murder neighbour muri...</td>\n",
       "    </tr>\n",
       "    <tr>\n",
       "      <th>792</th>\n",
       "      <td>In mid-August 1939, just before the outbreak o...</td>\n",
       "      <td>august outbreak world editor york globe power ...</td>\n",
       "    </tr>\n",
       "    <tr>\n",
       "      <th>11856</th>\n",
       "      <td>Naive country girl Lili  arrives in a provinci...</td>\n",
       "      <td>naive country girl lili arrive town hope locat...</td>\n",
       "    </tr>\n",
       "    <tr>\n",
       "      <th>1401</th>\n",
       "      <td>CONTIENE SPOILERS\\nLa película trata la histor...</td>\n",
       "      <td>contiene spoiler cula trata historia ladrones ...</td>\n",
       "    </tr>\n",
       "    <tr>\n",
       "      <th>6298</th>\n",
       "      <td>Rancher Hank Gelbert  receives a visit from hi...</td>\n",
       "      <td>rancher hank gelbert receive visit foreman jes...</td>\n",
       "    </tr>\n",
       "  </tbody>\n",
       "</table>\n",
       "<p>347 rows × 2 columns</p>\n",
       "</div>"
      ],
      "text/plain": [
       "                                           plot_synopsis                                     processed_plot\n",
       "9007   The story is narrated through flashbacks. Velu...  story narrate flashback velu teenager work roa...\n",
       "12983  The show follows three best friends in their l...  follow best friend late live kahnawake bailey ...\n",
       "8722   The film centers on European-looking, South Am...  film center european look south american immig...\n",
       "2144   Pittsburgh, 1996. Jamie  is seen working in an...  jamie work store talk flirt woman phone stereo...\n",
       "7247   In a Colorado national park, a boy having an a...  colorado national park asthma attack approach ...\n",
       "...                                                  ...                                                ...\n",
       "6636   The film begins in 1944 with John Christie mur...  film begin john christie murder neighbour muri...\n",
       "792    In mid-August 1939, just before the outbreak o...  august outbreak world editor york globe power ...\n",
       "11856  Naive country girl Lili  arrives in a provinci...  naive country girl lili arrive town hope locat...\n",
       "1401   CONTIENE SPOILERS\\nLa película trata la histor...  contiene spoiler cula trata historia ladrones ...\n",
       "6298   Rancher Hank Gelbert  receives a visit from hi...  rancher hank gelbert receive visit foreman jes...\n",
       "\n",
       "[347 rows x 2 columns]"
      ]
     },
     "execution_count": 16,
     "metadata": {},
     "output_type": "execute_result"
    }
   ],
   "source": [
    "df_test"
   ]
  },
  {
   "cell_type": "markdown",
   "metadata": {
    "id": "HuyQ6BXekgbQ"
   },
   "source": [
    "### Vectorize"
   ]
  },
  {
   "cell_type": "code",
   "execution_count": 92,
   "metadata": {
    "colab": {
     "base_uri": "https://localhost:8080/"
    },
    "id": "j-icuyJ3FhVs",
    "outputId": "62d7ba47-493a-4337-c5fe-7e9962af3bf4"
   },
   "outputs": [
    {
     "name": "stdout",
     "output_type": "stream",
     "text": [
      "(1004, 16746)\n"
     ]
    },
    {
     "name": "stderr",
     "output_type": "stream",
     "text": [
      "/usr/local/lib/python3.7/dist-packages/sklearn/utils/deprecation.py:87: FutureWarning: Function get_feature_names is deprecated; get_feature_names is deprecated in 1.0 and will be removed in 1.2. Please use get_feature_names_out instead.\n",
      "  warnings.warn(msg, category=FutureWarning)\n"
     ]
    }
   ],
   "source": [
    "from sklearn.feature_extraction.text import TfidfVectorizer\n",
    "\n",
    "vectorizer = TfidfVectorizer()\n",
    "#X = vectorizer.fit_transform(df_train['processed_plot'])\n",
    "X = vectorizer.fit_transform(df1['processed_plot'])\n",
    "vocab_tf_idf = vectorizer.get_feature_names()\n",
    "print(X.shape)"
   ]
  },
  {
   "cell_type": "code",
   "execution_count": 61,
   "metadata": {
    "colab": {
     "base_uri": "https://localhost:8080/"
    },
    "id": "E8cElnzoqNSn",
    "outputId": "8de81e87-edb5-4a96-afaf-16a5d18e37d2"
   },
   "outputs": [
    {
     "name": "stderr",
     "output_type": "stream",
     "text": [
      "/usr/local/lib/python3.7/dist-packages/sklearn/utils/deprecation.py:87: FutureWarning: Function get_feature_names is deprecated; get_feature_names is deprecated in 1.0 and will be removed in 1.2. Please use get_feature_names_out instead.\n",
      "  warnings.warn(msg, category=FutureWarning)\n"
     ]
    }
   ],
   "source": [
    "from sklearn.feature_extraction.text import CountVectorizer\n",
    "\n",
    "vectorizer2 = CountVectorizer(strip_accents='unicode',min_df=0.1,max_df=0.4)\n",
    "#X2 = vectorizer2.fit_transform(df_train['processed_plot'])\n",
    "X2 = vectorizer2.fit_transform(df1['processed_plot'])\n",
    "vocab2 = vectorizer2.get_feature_names()"
   ]
  },
  {
   "cell_type": "markdown",
   "metadata": {
    "id": "Z9NJKgRUUUKu"
   },
   "source": [
    "### Train LDA"
   ]
  },
  {
   "cell_type": "code",
   "execution_count": 95,
   "metadata": {
    "id": "MlTvXwcZLXE1"
   },
   "outputs": [],
   "source": [
    "from sklearn.decomposition import LatentDirichletAllocation as LDA\n",
    "#model = LDA(n_components=20,doc_topic_prior=50/20, topic_word_prior=0.01 )\n",
    "model = LDA(n_components=5)\n",
    "X_topics = model.fit_transform(X)  "
   ]
  },
  {
   "cell_type": "code",
   "execution_count": 62,
   "metadata": {
    "id": "LN-foRVaqsQ8"
   },
   "outputs": [],
   "source": [
    "from sklearn.decomposition import LatentDirichletAllocation as LDA\n",
    "model2 = LDA(n_components=2)\n",
    "X2_topics = model2.fit_transform(X2)"
   ]
  },
  {
   "cell_type": "markdown",
   "metadata": {
    "id": "shrS_8aTBI3c"
   },
   "source": [
    "### Plot perplexity"
   ]
  },
  {
   "cell_type": "code",
   "execution_count": 67,
   "metadata": {
    "id": "Gj_zjbglUG14"
   },
   "outputs": [],
   "source": [
    "score_test = []\n",
    "score_train = []\n",
    "featureshape = []\n",
    "for (min,max) in [(0.01,0.6),(0.02,0.2),(0.05,0.8),(0.1,0.6),(0.1,0.8),(0.2,0.6),(0.2,0.8)]:\n",
    "  vectorizer2 = CountVectorizer(strip_accents='unicode',min_df=min,max_df=max)\n",
    "  X2 = vectorizer2.fit_transform(df_train['processed_plot'])\n",
    "  X2_test = vectorizer2.transform(df_test['processed_plot'])\n",
    "  featureshape.append(X2.shape[1])\n",
    "  model2.fit_transform(X2)\n",
    "  model2.fit(X2_test)\n",
    "  score_train.append(model2.perplexity(X2))\n",
    "  score_test.append(model2.perplexity(X2_test))\n",
    "  "
   ]
  },
  {
   "cell_type": "code",
   "execution_count": 63,
   "metadata": {
    "id": "TqEKqCluXhxg"
   },
   "outputs": [],
   "source": [
    "tf_score_test = []\n",
    "tf_score_train = []\n",
    "for (min,max) in [(0.01,0.6),(0.02,0.2),(0.05,0.8),(0.1,0.6),(0.1,0.8),(0.2,0.6),(0.2,0.8)]:\n",
    "  vectorizer = TfidfVectorizer(min_df=min,max_df=max)\n",
    "  X1 = vectorizer.fit_transform(df_train['processed_plot'])\n",
    "  X1_test = vectorizer.transform(df_test['processed_plot'])\n",
    "  model.fit_transform(X1)\n",
    "  model.fit(X1_test)\n",
    "  tf_score_train.append(model.perplexity(X1))\n",
    "  tf_score_test.append(model.perplexity(X1_test))\n",
    "  "
   ]
  },
  {
   "cell_type": "code",
   "execution_count": 38,
   "metadata": {
    "id": "fpxxf8kAVs_D"
   },
   "outputs": [],
   "source": [
    "doc_fre = ['0.01,0.6','0.02,0.2','0.05,0.8','0.1,0.6','0.1,0.8','0.2,0.6','0.2,0.8']"
   ]
  },
  {
   "cell_type": "code",
   "execution_count": 39,
   "metadata": {
    "colab": {
     "base_uri": "https://localhost:8080/",
     "height": 0
    },
    "id": "vGJoXzCnVp10",
    "outputId": "46920589-90ff-4dbf-b89b-6533990c9a63"
   },
   "outputs": [
    {
     "data": {
      "image/png": "[encoded data removed]",
      "text/plain": [
       "<Figure size 432x288 with 1 Axes>"
      ]
     },
     "metadata": {
      "needs_background": "light"
     },
     "output_type": "display_data"
    }
   ],
   "source": [
    "import matplotlib.pyplot as plt\n",
    "plt.plot(doc_fre,score_test)\n",
    "plt.scatter(doc_fre,score_test)\n",
    "plt.title('Countvector: Document Frequency vs. Perplexity')\n",
    "plt.xlabel('Document Frequency')\n",
    "plt.ylabel('Perplexity')\n",
    "plt.xticks(doc_fre)\n",
    "plt.show()"
   ]
  },
  {
   "cell_type": "code",
   "execution_count": 68,
   "metadata": {
    "colab": {
     "base_uri": "https://localhost:8080/",
     "height": 0
    },
    "id": "gRd-bqs0YBzz",
    "outputId": "e9288faf-1700-4f8a-e655-2f8b7a63771c"
   },
   "outputs": [
    {
     "data": {
      "image/png": "[encoded data removed]",
      "text/plain": [
       "<Figure size 432x288 with 1 Axes>"
      ]
     },
     "metadata": {
      "needs_background": "light"
     },
     "output_type": "display_data"
    }
   ],
   "source": [
    "import matplotlib.pyplot as plt\n",
    "plt.plot(doc_fre,tf_score_test,label='tfidf_test')\n",
    "plt.plot(doc_fre, tf_score_train,label='tfidf_train')\n",
    "plt.plot(doc_fre,score_test,label='count_test')\n",
    "plt.plot(doc_fre, score_train,label='count_train')\n",
    "plt.scatter(doc_fre,featureshape, label='tokens number')\n",
    "plt.title('tfidf: Document Frequency vs. Perplexity')\n",
    "plt.xlabel('Document Frequency')\n",
    "plt.ylabel('Perplexity')\n",
    "plt.xticks(doc_fre)\n",
    "plt.legend();"
   ]
  },
  {
   "cell_type": "markdown",
   "metadata": {
    "id": "v2QYv0TMBSgL"
   },
   "source": [
    "### Document topics matrix"
   ]
  },
  {
   "cell_type": "code",
   "execution_count": 21,
   "metadata": {
    "id": "FFIzydkoETSk"
   },
   "outputs": [],
   "source": [
    "'''\n",
    "credit to: https://www.machinelearningplus.com/nlp/topic-modeling-python-sklearn-examples/#8checkthesparsicity\n",
    "'''\n",
    "# Create Document - Topic Matrix\n",
    "lda_output = model.transform(X)\n",
    "\n",
    "# column names\n",
    "topicnames = [\"Topic\" + str(i) for i in range(model.n_components)]\n",
    "\n",
    "# index names\n",
    "docnames = [\"Doc\" + str(i) for i in range(len(df_train))]\n",
    "\n",
    "# Make the pandas dataframe\n",
    "df_document_topic = pd.DataFrame(np.round(lda_output, 2), columns=topicnames, index=docnames)\n",
    "df_doc_top = df_document_topic.copy()\n",
    "\n",
    "# Get dominant topic for each document\n",
    "dominant_topic = np.argmax(df_document_topic.values, axis=1)\n",
    "df_document_topic['dominant_topic'] = dominant_topic\n",
    "\n",
    "# Styling\n",
    "def color_green(val):\n",
    "    color = 'green' if val > .1 else 'black'\n",
    "    return 'color: {col}'.format(col=color)\n",
    "\n",
    "def make_bold(val):\n",
    "    weight = 700 if val > .1 else 400\n",
    "    return 'font-weight: {weight}'.format(weight=weight)\n",
    "\n",
    "# Apply Style\n",
    "df_document_topics = df_document_topic.head(15).style.applymap(color_green).applymap(make_bold)\n",
    "df_document_topics"
   ]
  },
  {
   "cell_type": "code",
   "execution_count": 23,
   "metadata": {
    "id": "ZMzMWlpcIxRT"
   },
   "outputs": [],
   "source": [
    "'''\n",
    "credit to: https://www.machinelearningplus.com/nlp/topic-modeling-python-sklearn-examples/#8checkthesparsicity\n",
    "'''\n",
    "# Create Document - Topic Matrix\n",
    "lda_output2 = model.transform(X2)\n",
    "\n",
    "# column names\n",
    "topicnames2 = [\"Topic\" + str(i) for i in range(model2.n_components)]\n",
    "\n",
    "# index names\n",
    "docnames = [\"Doc\" + str(i) for i in range(len(df_train))]\n",
    "\n",
    "# Make the pandas dataframe\n",
    "df_document_topic2 = pd.DataFrame(np.round(lda_output2, 2), columns=topicnames2, index=docnames)\n",
    "df_doc_top2 = df_document_topic2.copy()\n",
    "\n",
    "# Get dominant topic for each document\n",
    "dominant_topic2 = np.argmax(df_document_topic2.values, axis=1)\n",
    "df_document_topic2['dominant_topic'] = dominant_topic2\n",
    "\n",
    "# Styling\n",
    "def color_green(val):\n",
    "    color = 'green' if val > .1 else 'black'\n",
    "    return 'color: {col}'.format(col=color)\n",
    "\n",
    "def make_bold(val):\n",
    "    weight = 700 if val > .1 else 400\n",
    "    return 'font-weight: {weight}'.format(weight=weight)\n",
    "\n",
    "# Apply Style\n",
    "df_document_topics2 = df_document_topic2.head(15).style.applymap(color_green).applymap(make_bold)"
   ]
  },
  {
   "cell_type": "code",
   "execution_count": 25,
   "metadata": {
    "colab": {
     "base_uri": "https://localhost:8080/",
     "height": 81
    },
    "id": "X_SO143QFmfY",
    "outputId": "1156c063-242a-42dd-9cc8-f23ded05d198"
   },
   "outputs": [
    {
     "data": {
      "text/html": [
       "<div>\n",
       "<style scoped>\n",
       "    .dataframe tbody tr th:only-of-type {\n",
       "        vertical-align: middle;\n",
       "    }\n",
       "\n",
       "    .dataframe tbody tr th {\n",
       "        vertical-align: top;\n",
       "    }\n",
       "\n",
       "    .dataframe thead th {\n",
       "        text-align: right;\n",
       "    }\n",
       "</style>\n",
       "<table border=\"1\" class=\"dataframe\">\n",
       "  <thead>\n",
       "    <tr style=\"text-align: right;\">\n",
       "      <th></th>\n",
       "      <th>Topic ID</th>\n",
       "      <th>Num of Docs</th>\n",
       "    </tr>\n",
       "  </thead>\n",
       "  <tbody>\n",
       "    <tr>\n",
       "      <th>0</th>\n",
       "      <td>1</td>\n",
       "      <td>803</td>\n",
       "    </tr>\n",
       "  </tbody>\n",
       "</table>\n",
       "</div>"
      ],
      "text/plain": [
       "   Topic ID  Num of Docs\n",
       "0         1          803"
      ]
     },
     "execution_count": 25,
     "metadata": {},
     "output_type": "execute_result"
    }
   ],
   "source": [
    "df_topic_distribution = df_document_topic['dominant_topic'].value_counts().reset_index(name=\"Num Documents\")\n",
    "df_topic_distribution.columns = ['Topic ID', 'Num of Docs']\n",
    "df_topic_distribution"
   ]
  },
  {
   "cell_type": "code",
   "execution_count": 26,
   "metadata": {
    "colab": {
     "base_uri": "https://localhost:8080/",
     "height": 81
    },
    "id": "-9oM9l_dX5or",
    "outputId": "8246a4f3-8fdb-47a4-e811-455ed948b3e5"
   },
   "outputs": [
    {
     "data": {
      "text/html": [
       "<div>\n",
       "<style scoped>\n",
       "    .dataframe tbody tr th:only-of-type {\n",
       "        vertical-align: middle;\n",
       "    }\n",
       "\n",
       "    .dataframe tbody tr th {\n",
       "        vertical-align: top;\n",
       "    }\n",
       "\n",
       "    .dataframe thead th {\n",
       "        text-align: right;\n",
       "    }\n",
       "</style>\n",
       "<table border=\"1\" class=\"dataframe\">\n",
       "  <thead>\n",
       "    <tr style=\"text-align: right;\">\n",
       "      <th></th>\n",
       "      <th>Topic ID</th>\n",
       "      <th>Num of Docs</th>\n",
       "    </tr>\n",
       "  </thead>\n",
       "  <tbody>\n",
       "    <tr>\n",
       "      <th>0</th>\n",
       "      <td>1</td>\n",
       "      <td>803</td>\n",
       "    </tr>\n",
       "  </tbody>\n",
       "</table>\n",
       "</div>"
      ],
      "text/plain": [
       "   Topic ID  Num of Docs\n",
       "0         1          803"
      ]
     },
     "execution_count": 26,
     "metadata": {},
     "output_type": "execute_result"
    }
   ],
   "source": [
    "df_topic_distribution2 = df_document_topic2['dominant_topic'].value_counts().reset_index(name=\"Num Documents\")\n",
    "df_topic_distribution2.columns = ['Topic ID', 'Num of Docs']\n",
    "df_topic_distribution2.head()"
   ]
  },
  {
   "cell_type": "markdown",
   "metadata": {
    "id": "EeulseHeHasO"
   },
   "source": [
    "### topic lists"
   ]
  },
  {
   "cell_type": "code",
   "execution_count": 63,
   "metadata": {
    "colab": {
     "base_uri": "https://localhost:8080/"
    },
    "id": "4CJqcRnBvcp3",
    "outputId": "8c7faa78-a528-4b18-87e8-b72393ed912b"
   },
   "outputs": [
    {
     "name": "stdout",
     "output_type": "stream",
     "text": [
      "Topic 1 ['police' 'house' 'room' 'body' 'look' 'night' 'dead' 'turn' 'head']\n",
      "Topic 2 ['father' 'family' 'marry' 'mother' 'year' 'young' 'daughter' 'wife'\n",
      " 'child']\n"
     ]
    }
   ],
   "source": [
    "import numpy as np\n",
    "n_topic_words = 10\n",
    "topic_words2 = model2.components_\n",
    "for i, topic_dist in enumerate(topic_words2):\n",
    "  sorted_topic_dist = np.argsort(topic_dist)\n",
    "\n",
    "  topic_words2 = np.array(vocab2)[sorted_topic_dist]\n",
    "\n",
    "  topic_words2 = topic_words2[:-n_topic_words:-1]\n",
    "  print(\"Topic\", str(i+1), topic_words2)"
   ]
  },
  {
   "cell_type": "code",
   "execution_count": 96,
   "metadata": {
    "colab": {
     "base_uri": "https://localhost:8080/"
    },
    "id": "3wH83rnoibF6",
    "outputId": "5844e2e2-a281-4cdc-caed-64a6d8e0970f"
   },
   "outputs": [
    {
     "name": "stdout",
     "output_type": "stream",
     "text": [
      "Topic 1 ['mick' 'oliver' 'aryan' 'gaurav' 'ritch' 'hildern' 'lorraine' 'sikes'\n",
      " 'aladeen']\n",
      "Topic 2 ['perry' 'rommel' 'wyatt' 'sara' 'richter' 'weston' 'craig' 'ravi' 'raam']\n",
      "Topic 3 ['marianne' 'olive' 'rynn' 'dany' 'arlis' 'tartu' 'masuoka' 'chava'\n",
      " 'milner']\n",
      "Topic 4 ['kill' 'find' 'tell' 'police' 'murder' 'house' 'shoot' 'father' 'woman']\n",
      "Topic 5 ['kolchak' 'bert' 'macbeth' 'joanna' 'khan' 'tibbs' 'rasputin' 'libby'\n",
      " 'flemming']\n"
     ]
    }
   ],
   "source": [
    "import numpy as np\n",
    "n_topic_words = 10\n",
    "topic_words = model.components_\n",
    "\n",
    "for i, topic_dist in enumerate(topic_words):\n",
    "  sorted_topic_dist = np.argsort(topic_dist)\n",
    "\n",
    "  topic_words = np.array(vocab_tf_idf)[sorted_topic_dist]\n",
    "\n",
    "  topic_words = topic_words[:-n_topic_words:-1]\n",
    "  print(\"Topic\", str(i+1), topic_words)\n"
   ]
  },
  {
   "cell_type": "markdown",
   "metadata": {
    "id": "MqlJtWz4SshO"
   },
   "source": [
    "### Topic plot"
   ]
  },
  {
   "cell_type": "code",
   "execution_count": 42,
   "metadata": {
    "id": "yUUZTBe07UQn"
   },
   "outputs": [],
   "source": [
    "#https://scikit-learn.org/stable/auto_examples/applications/plot_topics_extraction_with_nmf_lda.html#sphx-glr-auto-examples-applications-plot-topics-extraction-with-nmf-lda-py\n",
    "'''\n",
    "Plots code from sklearn\n",
    "'''\n",
    "from time import time\n",
    "import matplotlib.pyplot as plt\n",
    "\n",
    "def plot_top_words(model, feature_names, n_top_words, title):\n",
    "    fig, axes = plt.subplots(1, 5, figsize=(13,6), sharex=True)\n",
    "    axes = axes.flatten()\n",
    "    for topic_idx, topic in enumerate(model.components_):\n",
    "        top_features_ind = topic.argsort()[: -n_top_words - 1 : -1]\n",
    "        top_features = [feature_names[i] for i in top_features_ind]\n",
    "        weights = topic[top_features_ind]\n",
    "\n",
    "        ax = axes[topic_idx]\n",
    "        ax.barh(top_features, weights, height=0.7)\n",
    "        ax.set_title(f\"Topic {topic_idx +1}\", fontdict={\"fontsize\": 15})\n",
    "        ax.invert_yaxis()\n",
    "        ax.tick_params(axis=\"both\", which=\"major\", labelsize=15)\n",
    "        for i in \"top right left\".split():\n",
    "            ax.spines[i].set_visible(False)\n",
    "        fig.suptitle(title, fontsize=20)\n",
    "\n",
    "    plt.subplots_adjust(top=0.80, bottom=0.05, wspace=0.90, hspace=0.3)\n",
    "    plt.show()"
   ]
  },
  {
   "cell_type": "code",
   "execution_count": 43,
   "metadata": {
    "colab": {
     "base_uri": "https://localhost:8080/",
     "height": 455
    },
    "id": "BHi1wdJQ7agf",
    "outputId": "976bce5d-7976-4968-e010-a3bdd9ecdad3"
   },
   "outputs": [
    {
     "data": {
      "image/png": "[encoded data removed]",
      "text/plain": [
       "<Figure size 936x432 with 5 Axes>"
      ]
     },
     "metadata": {
      "needs_background": "light"
     },
     "output_type": "display_data"
    }
   ],
   "source": [
    "tf_feature_names1 = vocab_tf_idf\n",
    "n_top_words = 10\n",
    "plot_top_words(model, tf_feature_names1, n_top_words, \"Topics in LDA model_tfidf\")"
   ]
  },
  {
   "cell_type": "code",
   "execution_count": 44,
   "metadata": {
    "colab": {
     "base_uri": "https://localhost:8080/",
     "height": 455
    },
    "id": "yVXcCFfA8aeI",
    "outputId": "bbddd3c4-bec5-4978-fc79-146fe3b575e2"
   },
   "outputs": [
    {
     "data": {
      "image/png": "[encoded data removed]",
      "text/plain": [
       "<Figure size 936x432 with 5 Axes>"
      ]
     },
     "metadata": {
      "needs_background": "light"
     },
     "output_type": "display_data"
    }
   ],
   "source": [
    "tf_feature_names2 = vocab2\n",
    "n_top_words = 10\n",
    "plot_top_words(model2, tf_feature_names2, n_top_words, \"Topics in LDA model_countvector\")"
   ]
  },
  {
   "cell_type": "markdown",
   "metadata": {
    "id": "ySlQP1tpSzag"
   },
   "source": [
    "### Wordcloud"
   ]
  },
  {
   "cell_type": "code",
   "execution_count": 185,
   "metadata": {
    "id": "YKZWNQm3Eljh"
   },
   "outputs": [],
   "source": [
    "text = df_train.processed_plot.iloc[1]"
   ]
  },
  {
   "cell_type": "code",
   "execution_count": 186,
   "metadata": {
    "id": "a81T7N-cG4Mp"
   },
   "outputs": [],
   "source": [
    "#text = text_tokens.iloc[0]\n",
    "str1 = ','.join(text.split(' '))"
   ]
  },
  {
   "cell_type": "code",
   "execution_count": 188,
   "metadata": {
    "colab": {
     "base_uri": "https://localhost:8080/",
     "height": 198
    },
    "id": "_dsC4YX-E2tu",
    "outputId": "f8b15312-be20-4cc3-9755-c01ea9f60b41"
   },
   "outputs": [
    {
     "data": {
      "image/png": "[encoded data removed]",
      "text/plain": [
       "<Figure size 432x288 with 1 Axes>"
      ]
     },
     "metadata": {
      "needs_background": "light"
     },
     "output_type": "display_data"
    }
   ],
   "source": [
    "# Create and generate a word cloud image:\n",
    "from wordcloud import WordCloud\n",
    "wordcloud = WordCloud(background_color='white').generate(str1)\n",
    "\n",
    "# Display the generated image:\n",
    "plt.imshow(wordcloud, interpolation='bilinear')\n",
    "plt.axis(\"off\");"
   ]
  },
  {
   "cell_type": "markdown",
   "metadata": {
    "id": "jPawbTigS-IB"
   },
   "source": [
    "### Topic assignment to movie"
   ]
  },
  {
   "cell_type": "code",
   "execution_count": 189,
   "metadata": {
    "colab": {
     "base_uri": "https://localhost:8080/"
    },
    "id": "VeXgDCowPJvd",
    "outputId": "755c21d5-d618-45e1-9815-ab80a2f671e5"
   },
   "outputs": [
    {
     "name": "stdout",
     "output_type": "stream",
     "text": [
      "Movie 1  -- Topic: 1\n",
      "Movie 2  -- Topic: 1\n",
      "Movie 3  -- Topic: 1\n",
      "Movie 4  -- Topic: 1\n",
      "Movie 5  -- Topic: 1\n",
      "Movie 6  -- Topic: 1\n",
      "Movie 7  -- Topic: 1\n",
      "Movie 8  -- Topic: 1\n",
      "Movie 9  -- Topic: 1\n",
      "Movie 10  -- Topic: 1\n"
     ]
    }
   ],
   "source": [
    "doc_topic = model.transform(X) #https://www.analyticsvidhya.com/blog/2021/06/part-3-topic-modeling-and-latent-dirichlet-allocation-lda-using-gensim-and-sklearn/\n",
    "\n",
    "for n in range(10):\n",
    "  topic_doc = doc_topic[n].argmax()\n",
    "\n",
    "  print(\"Movie\", n+1, \" -- Topic:\", topic_doc)"
   ]
  },
  {
   "cell_type": "code",
   "execution_count": 190,
   "metadata": {
    "colab": {
     "base_uri": "https://localhost:8080/"
    },
    "id": "lRqbinONKNXe",
    "outputId": "226c0889-9430-4a61-e262-d769d6beadd6"
   },
   "outputs": [
    {
     "name": "stdout",
     "output_type": "stream",
     "text": [
      "Movie 1  -- Topic: 3\n",
      "Movie 2  -- Topic: 3\n",
      "Movie 3  -- Topic: 2\n",
      "Movie 4  -- Topic: 2\n",
      "Movie 5  -- Topic: 1\n",
      "Movie 6  -- Topic: 3\n",
      "Movie 7  -- Topic: 3\n",
      "Movie 8  -- Topic: 3\n",
      "Movie 9  -- Topic: 1\n",
      "Movie 10  -- Topic: 4\n"
     ]
    }
   ],
   "source": [
    "doc_topic2 = model2.transform(X2) #https://www.analyticsvidhya.com/blog/2021/06/part-3-topic-modeling-and-latent-dirichlet-allocation-lda-using-gensim-and-sklearn/\n",
    "\n",
    "for n in range(10):\n",
    "  topic_doc = doc_topic2[n].argmax()\n",
    "\n",
    "  print(\"Movie\", n+1, \" -- Topic:\", topic_doc)"
   ]
  },
  {
   "cell_type": "code",
   "execution_count": 27,
   "metadata": {
    "id": "3nfn6rNBMflW"
   },
   "outputs": [],
   "source": [
    "#https://datascienceplus.com/evaluation-of-topic-modeling-topic-coherence/\n",
    "#coherence score"
   ]
  },
  {
   "cell_type": "markdown",
   "metadata": {
    "id": "7mA7rhnjTFJo"
   },
   "source": [
    "### Coherence score"
   ]
  },
  {
   "cell_type": "code",
   "execution_count": 191,
   "metadata": {
    "id": "GISIksn0mixJ"
   },
   "outputs": [],
   "source": [
    "import spacy\n",
    "import nltk\n",
    "import re\n",
    "import string\n",
    "import pandas as pd\n",
    "import numpy as np\n",
    "import gensim\n",
    "from gensim import corpora\n",
    "#import pyLDAvis.gensim_models\n",
    "import matplotlib.pyplot as plt\n",
    "import json\n",
    "%matplotlib inline"
   ]
  },
  {
   "cell_type": "code",
   "execution_count": 192,
   "metadata": {
    "id": "9sqZdBQBJXvh"
   },
   "outputs": [],
   "source": [
    "syn_text2 = df1.processed_plot.map(lambda x: [word for word in x.split()])"
   ]
  },
  {
   "cell_type": "code",
   "execution_count": null,
   "metadata": {
    "id": "RM2OzvVCgOKL"
   },
   "outputs": [],
   "source": [
    "dictionary2 = corpora.Dictionary(syn_text2)\n",
    "doc_term_matrix2 = [dictionary2.doc2bow(doc) for doc in syn_text2]"
   ]
  },
  {
   "cell_type": "code",
   "execution_count": null,
   "metadata": {
    "id": "m5J2-74emKba"
   },
   "outputs": [],
   "source": [
    "#while True:pass\n",
    "coherence_topic = []\n",
    "for k in [5,6,10]:\n",
    "#for k in range(6,12):\n",
    "    print('Round: '+str(k))\n",
    "    Lda2 = gensim.models.ldamodel.LdaModel\n",
    "    # ldamodel = Lda(doc_term_matrix, num_topics=k, id2word = dictionary, passes=40,\\\n",
    "    #                iterations=200, chunksize = 10000, eval_every = None)\n",
    "    ldamodel2 = Lda2(doc_term_matrix2, num_topics=k, id2word = dictionary2, eval_every=None)\n",
    "    \n",
    "    cm = gensim.models.coherencemodel.CoherenceModel(model=ldamodel2, texts=syn_text2,\\\n",
    "                                                     dictionary=dictionary2, coherence='c_v')\n",
    "    coherence_topic.append((k,cm.get_coherence()))"
   ]
  },
  {
   "cell_type": "code",
   "execution_count": null,
   "metadata": {
    "id": "V6STepV-mMXh"
   },
   "outputs": [],
   "source": [
    "x_val_t = [x[0] for x in coherence_topic]\n",
    "y_val_t = [x[1] for x in coherence_topic]"
   ]
  },
  {
   "cell_type": "code",
   "execution_count": null,
   "metadata": {
    "id": "Sv0Af1_v05GO"
   },
   "outputs": [],
   "source": [
    "plt.plot(x_val_t,y_val_t)\n",
    "plt.scatter(x_val_t,y_val_t)\n",
    "plt.title('Number of topics vs. Coherence')\n",
    "plt.xlabel('Number of topics')\n",
    "plt.ylabel('Coherence')\n",
    "plt.xticks(x_val_t)\n",
    "plt.show()"
   ]
  },
  {
   "cell_type": "code",
   "execution_count": null,
   "metadata": {
    "id": "SgTs3G75tCLY"
   },
   "outputs": [],
   "source": [
    "coherence = []\n",
    "for al in [0.1,0.2,0.3,0.4,0.5,0.6,0.7,0.8,0.9]:\n",
    "    print('Alpha: '+str(al))\n",
    "    Lda = gensim.models.ldamodel.LdaModel\n",
    "    # ldamodel = Lda(doc_term_matrix, num_topics=k, id2word = dictionary, passes=40,\\\n",
    "    #                iterations=200, chunksize = 10000, eval_every = None)\n",
    "    ldamodel = Lda(doc_term_matrix2, num_topics=2, alpha=al, id2word = dictionary2)\n",
    "    \n",
    "    cm = gensim.models.coherencemodel.CoherenceModel(model=ldamodel, texts=syn_text2,\\\n",
    "                                                     dictionary=dictionary2, coherence='c_v')\n",
    "    coherence.append((al,cm.get_coherence()))"
   ]
  },
  {
   "cell_type": "code",
   "execution_count": null,
   "metadata": {
    "id": "oO1KQ4GP01D5"
   },
   "outputs": [],
   "source": [
    "x_val = [x[0] for x in coherence]\n",
    "y_val = [x[1] for x in coherence]"
   ]
  },
  {
   "cell_type": "code",
   "execution_count": null,
   "metadata": {
    "id": "lHY4o1uhmps4"
   },
   "outputs": [],
   "source": [
    "plt.plot(x_val,y_val)\n",
    "plt.scatter(x_val,y_val)\n",
    "plt.title('Alpha vs. Coherence')\n",
    "plt.xlabel('Alpha')\n",
    "plt.ylabel('Coherence')\n",
    "plt.xticks(x_val)\n",
    "plt.show()"
   ]
  },
  {
   "cell_type": "code",
   "execution_count": null,
   "metadata": {
    "id": "CSmGTbj4yblr"
   },
   "outputs": [],
   "source": [
    "coherence_eta = []\n",
    "for eta in [0.001,0.01, 0.1, 0.4, 0.5]:\n",
    "    print('Eta: '+str(eta))\n",
    "    Lda2 = gensim.models.ldamodel.LdaModel\n",
    "    # ldamodel = Lda(doc_term_matrix, num_topics=k, id2word = dictionary, passes=40,\\\n",
    "    #                iterations=200, chunksize = 10000, eval_every = None)\n",
    "    ldamodel2 = Lda2(doc_term_matrix2, num_topics=5, eta=eta, alpha=10, id2word = dictionary2)\n",
    "    \n",
    "    cm2 = gensim.models.coherencemodel.CoherenceModel(model=ldamodel2, texts=syn_text2,\\\n",
    "                                                     dictionary=dictionary2, coherence='c_v')\n",
    "    coherence_eta.append((eta,cm2.get_coherence()))"
   ]
  },
  {
   "cell_type": "code",
   "execution_count": null,
   "metadata": {
    "id": "DK0M4r0Gz3x2"
   },
   "outputs": [],
   "source": [
    "coherence_eta"
   ]
  },
  {
   "cell_type": "code",
   "execution_count": null,
   "metadata": {
    "id": "r6EqNBfKy9JI"
   },
   "outputs": [],
   "source": [
    "x_val2 = [x[0] for x in coherence_eta]\n",
    "y_val2 = [x[1] for x in coherence_eta]"
   ]
  },
  {
   "cell_type": "code",
   "execution_count": null,
   "metadata": {
    "id": "zGjvpmrfy-ad"
   },
   "outputs": [],
   "source": [
    "plt.plot(x_val2,y_val2)\n",
    "plt.scatter(x_val2,y_val2)\n",
    "plt.title('Eta vs. Coherence, alpha=0.8')\n",
    "plt.xlabel('Eta')\n",
    "plt.ylabel('Coherence')\n",
    "plt.xticks(x_val2)\n",
    "plt.show()"
   ]
  },
  {
   "cell_type": "code",
   "execution_count": null,
   "metadata": {
    "id": "a6tfGXDDm8CF"
   },
   "outputs": [],
   "source": [
    "Lda = gensim.models.ldamodel.LdaModel\n",
    "ldamodel = Lda(doc_term_matrix2, num_topics=20, alpha=50/20, eta=0.01, random_state=3, id2word = dictionary2)"
   ]
  },
  {
   "cell_type": "code",
   "execution_count": null,
   "metadata": {
    "id": "RUASTevRnL_Z"
   },
   "outputs": [],
   "source": [
    "Lda2 = gensim.models.ldamodel.LdaModel\n",
    "ldamodel2 = Lda2(doc_term_matrix2, num_topics=4, alpha=50/4, eta=0.01, random_state=3, id2word = dictionary2)"
   ]
  },
  {
   "cell_type": "code",
   "execution_count": null,
   "metadata": {
    "id": "qdT75WdVnO02"
   },
   "outputs": [],
   "source": [
    "# To show initial topics\n",
    "ldamodel.show_topics(20, num_words=5, formatted=False)"
   ]
  },
  {
   "cell_type": "code",
   "execution_count": null,
   "metadata": {
    "id": "hsITVGubnQfz"
   },
   "outputs": [],
   "source": [
    "# To show initial topics\n",
    "ldamodel2.show_topics(4, num_words=10, formatted=False)"
   ]
  },
  {
   "cell_type": "code",
   "execution_count": null,
   "metadata": {
    "id": "8GZFi-lGneKG"
   },
   "outputs": [],
   "source": []
  }
 ],
 "metadata": {
  "colab": {
   "collapsed_sections": [],
   "history_visible": true,
   "name": "MSc_project.ipynb",
   "provenance": [],
   "toc_visible": true
  },
  "kernelspec": {
   "display_name": "Python 3 (ipykernel)",
   "language": "python",
   "name": "python3"
  },
  "language_info": {
   "codemirror_mode": {
    "name": "ipython",
    "version": 3
   },
   "file_extension": ".py",
   "mimetype": "text/x-python",
   "name": "python",
   "nbconvert_exporter": "python",
   "pygments_lexer": "ipython3",
   "version": "3.8.3"
  }
 },
 "nbformat": 4,
 "nbformat_minor": 4
}
